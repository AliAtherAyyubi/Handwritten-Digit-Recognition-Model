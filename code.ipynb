{
 "cells": [
  {
   "cell_type": "markdown",
   "id": "b0ce04ed",
   "metadata": {},
   "source": [
    "## Handwritten Digit Recognition using Tensorflow"
   ]
  },
  {
   "cell_type": "code",
   "execution_count": null,
   "id": "091c8419",
   "metadata": {
    "vscode": {
     "languageId": "plaintext"
    }
   },
   "outputs": [],
   "source": [
    "import tensorflow as tf\n",
    "import numpy as np\n",
    "import matplotlib.pyplot as plt"
   ]
  },
  {
   "cell_type": "code",
   "execution_count": null,
   "id": "be2299e4",
   "metadata": {
    "vscode": {
     "languageId": "plaintext"
    }
   },
   "outputs": [],
   "source": [
    "(x_train,y_train), (x_test,y_test) = tf.keras.datasets.mnist.load_data()\n",
    "x_train,x_test= x_train/255.0, x_test/255.0"
   ]
  },
  {
   "cell_type": "code",
   "execution_count": null,
   "id": "e1226f7a",
   "metadata": {
    "vscode": {
     "languageId": "plaintext"
    }
   },
   "outputs": [],
   "source": [
    "\n",
    "model= tf.keras.Sequential([\n",
    "    tf.keras.layers.Flatten(input_shape=(28,28)),\n",
    "    tf.keras.layers.Dense(128,activation='relu'),\n",
    "    tf.keras.layers.Dense(10,activation='softmax')\n",
    "])\n",
    "\n",
    "model.compile(optimizer='adam',loss='sparse_categorical_crossentropy',metrics=['accuracy'])\n",
    "\n",
    "model.fit(x_train,y_train, epochs=10, validation_split=0.1)"
   ]
  },
  {
   "cell_type": "code",
   "execution_count": null,
   "id": "3650c687",
   "metadata": {
    "vscode": {
     "languageId": "plaintext"
    }
   },
   "outputs": [],
   "source": [
    "model.save('model.keras')"
   ]
  },
  {
   "cell_type": "code",
   "execution_count": null,
   "id": "511846fa",
   "metadata": {
    "vscode": {
     "languageId": "plaintext"
    }
   },
   "outputs": [],
   "source": [
    "# Loading the Model \n",
    "\n",
    "model= tf.keras.models.load_model('model.keras')"
   ]
  },
  {
   "cell_type": "code",
   "execution_count": null,
   "id": "465736cf",
   "metadata": {
    "vscode": {
     "languageId": "plaintext"
    }
   },
   "outputs": [],
   "source": [
    "# Predicted test data\n",
    "predict= model.predict(x_test[16].reshape(1,28,28))\n",
    "\n",
    "label= np.argmax(predict)\n",
    "\n",
    "plt.imshow(x_test[16])\n",
    "\n",
    "plt.title(f'Predicted Digit: {label}')\n",
    "plt.show()"
   ]
  },
  {
   "cell_type": "code",
   "execution_count": null,
   "id": "7f65eb34",
   "metadata": {
    "vscode": {
     "languageId": "plaintext"
    }
   },
   "outputs": [],
   "source": [
    "# Predicting own image \n",
    "\n",
    "from PIL import Image,ImageOps\n",
    "\n",
    "img = Image.open('../samples/n5.jpeg').convert(\"L\")  # Convert to grayscale\n",
    "\n",
    "# Resize to 28x28\n",
    "img = img.resize((28, 28))\n",
    "img = ImageOps.invert(img)\n",
    "img_array = np.array(img) / 255.0\n",
    "\n",
    "# Reshape for model\n",
    "img_array = img_array.reshape(1, 28, 28)\n",
    "\n",
    "# print(img_array)\n",
    "predictDigit= model.predict(img_array)\n",
    "label= np.argmax(predictDigit)\n",
    "print(f'Predicted Digit: {label}')\n",
    "\n",
    "\n",
    "plt.imshow(img_array.reshape(28,28), cmap='gray')\n",
    "plt.title(f\"Predicted Digit: {label}\")\n",
    "plt.axis('off')\n",
    "plt.show()"
   ]
  },
  {
   "cell_type": "code",
   "execution_count": null,
   "id": "aae0dce1",
   "metadata": {
    "vscode": {
     "languageId": "plaintext"
    }
   },
   "outputs": [],
   "source": [
    "# Showing image from dataset of MNIST\n",
    "\n",
    "img_arr= x_test[2]\n",
    "\n",
    "img= Image.fromarray(img_arr)\n",
    "\n",
    "img= img.resize((2000,2000),Image.NEAREST)\n",
    "\n",
    "img.show()"
   ]
  }
 ],
 "metadata": {
  "language_info": {
   "name": "python"
  }
 },
 "nbformat": 4,
 "nbformat_minor": 5
}
