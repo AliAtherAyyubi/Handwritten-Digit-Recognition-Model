{
 "cells": [
  {
   "cell_type": "markdown",
   "id": "b0ce04ed",
   "metadata": {},
   "source": [
    "## Handwritten Digit Recognition using Tensorflow"
   ]
  },
  {
   "cell_type": "code",
   "execution_count": null,
   "id": "091c8419",
   "metadata": {
    "vscode": {
     "languageId": "plaintext"
    }
   },
   "outputs": [],
   "source": [
    "import tensorflow as tf\n",
    "import numpy as np\n",
    "import matplotlib.pyplot as plt"
   ]
  }
 ],
 "metadata": {
  "language_info": {
   "name": "python"
  }
 },
 "nbformat": 4,
 "nbformat_minor": 5
}
