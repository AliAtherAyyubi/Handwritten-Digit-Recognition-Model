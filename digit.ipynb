{
 "cells": [
  {
   "cell_type": "markdown",
   "id": "9b72e2dc",
   "metadata": {},
   "source": [
    "## Digit Recognition using CNN"
   ]
  },
  {
   "cell_type": "code",
   "execution_count": null,
   "id": "e6d6998c",
   "metadata": {},
   "outputs": [],
   "source": [
    "import tensorflow as tf\n",
    "import numpy as np\n",
    "import matplotlib.pyplot as plt\n",
    "from tensorflow.keras import layers, models"
   ]
  },
  {
   "cell_type": "code",
   "execution_count": null,
   "id": "024d48b6",
   "metadata": {},
   "outputs": [],
   "source": [
    "(x_train,y_train),(x_test,y_test) = tf.keras.datasets.mnist.load_data()\n",
    "x_train = x_train.reshape(-1, 28, 28, 1).astype('float32') / 255.0  # Add channel dimension\n",
    "x_test = x_test.reshape(-1, 28, 28, 1).astype('float32') / 255.0"
   ]
  },
  {
   "cell_type": "code",
   "execution_count": null,
   "id": "c4521e6a",
   "metadata": {},
   "outputs": [],
   "source": [
    "model= tf.keras.Sequential([\n",
    "    layers.Conv2D(32, kernel_size=(3,3), activation='relu', input_shape=(28, 28, 1)),\n",
    "    layers.MaxPool2D(pool_size=(2,2)),\n",
    "    layers.Conv2D(64, kernel_size=(3,3), activation='relu', ),\n",
    "    layers.MaxPool2D(pool_size=(2,2)),\n",
    "    layers.Flatten(),\n",
    "    layers.Dense(64, activation='relu'),\n",
    "    layers.Dense(10, activation='softmax')\n",
    "])\n",
    "\n",
    "model.compile(optimizer='adam',loss='sparse_categorical_crossentropy',metrics=['accuracy'])\n",
    "model.fit(x_train,y_train,epochs=5)"
   ]
  },
  {
   "cell_type": "code",
   "execution_count": null,
   "id": "42e5ba0f",
   "metadata": {},
   "outputs": [],
   "source": [
    "model.save('./model/cnn_digit.keras')"
   ]
  },
  {
   "cell_type": "code",
   "execution_count": null,
   "id": "6af68a2e",
   "metadata": {},
   "outputs": [],
   "source": [
    "model= tf.keras.models.load_model('./model/cnn_digit.keras')\n",
    "\n",
    "predict= model.predict(x_test[1].reshape(1,28,28))\n",
    "\n",
    "label= np.argmax(predict)\n",
    "print(label)\n",
    "\n",
    "plt.imshow(x_test[1])"
   ]
  },
  {
   "cell_type": "code",
   "execution_count": 30,
   "id": "7d055521",
   "metadata": {},
   "outputs": [],
   "source": [
    "def convert_pil_to_grayscale(image):\n",
    "    \"\"\"\n",
    "    Converts a PIL image to grayscale only if it's not already.\n",
    "    \"\"\"\n",
    "    if image.mode != 'L':  # 'L' mode is grayscale in PIL\n",
    "        image = image.convert('L')\n",
    "    return image"
   ]
  },
  {
   "cell_type": "code",
   "execution_count": 36,
   "id": "b8e7a598",
   "metadata": {},
   "outputs": [
    {
     "name": "stdout",
     "output_type": "stream",
     "text": [
      "\u001b[1m1/1\u001b[0m \u001b[32m━━━━━━━━━━━━━━━━━━━━\u001b[0m\u001b[37m\u001b[0m \u001b[1m0s\u001b[0m 57ms/step\n",
      "3\n"
     ]
    },
    {
     "data": {
      "text/plain": [
       "<matplotlib.image.AxesImage at 0x14e919e8610>"
      ]
     },
     "execution_count": 36,
     "metadata": {},
     "output_type": "execute_result"
    },
    {
     "data": {
      "image/png": "[encoded data removed]",
      "text/plain": [
       "<Figure size 640x480 with 1 Axes>"
      ]
     },
     "metadata": {},
     "output_type": "display_data"
    }
   ],
   "source": [
    "from PIL import Image,ImageOps\n",
    "\n",
    "img= Image.open('./samples/n3.png').convert('L')\n",
    "# img= convert_pil_to_grayscale(img)\n",
    "img= img.resize((28,28))\n",
    "img= ImageOps.invert(img)\n",
    "img_arr= np.array(img)/255\n",
    "\n",
    "img_arr= img_arr.reshape(1,28,28)\n",
    "\n",
    "predict= model.predict(img_arr)\n",
    "\n",
    "label= np.argmax(predict)\n",
    "\n",
    "print(label)\n",
    "plt.imshow(img_arr.reshape(28,28,1),cmap='gray')"
   ]
  },
  {
   "cell_type": "code",
   "execution_count": null,
   "id": "c871ec8a",
   "metadata": {},
   "outputs": [],
   "source": []
  },
  {
   "cell_type": "code",
   "execution_count": null,
   "id": "f2d1c686",
   "metadata": {},
   "outputs": [],
   "source": []
  }
 ],
 "metadata": {
  "kernelspec": {
   "display_name": ".venv",
   "language": "python",
   "name": "python3"
  },
  "language_info": {
   "codemirror_mode": {
    "name": "ipython",
    "version": 3
   },
   "file_extension": ".py",
   "mimetype": "text/x-python",
   "name": "python",
   "nbconvert_exporter": "python",
   "pygments_lexer": "ipython3",
   "version": "3.11.2"
  }
 },
 "nbformat": 4,
 "nbformat_minor": 5
}
